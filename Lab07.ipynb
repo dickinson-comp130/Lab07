{
 "cells": [
  {
   "cell_type": "markdown",
   "metadata": {},
   "source": [
    "# Lab 07 - Lab Exam #1 \n",
    "**COMP130 - Introduction to Computing**  \n",
    "**Dickinson College**  "
   ]
  },
  {
   "cell_type": "markdown",
   "metadata": {},
   "source": [
    "### Name:"
   ]
  },
  {
   "cell_type": "markdown",
   "metadata": {},
   "source": []
  },
  {
   "cell_type": "markdown",
   "metadata": {},
   "source": [
    "---\n",
    "# [10] Q1:  Icecream Volume\n",
    "\n",
    "An icecream shop has decided to charge by volume.  The employees have been highly trained to dip out perfectly spherical scoops of icecream.  Now they need a program to help them.  Write a program that:\n",
    "- prompts for the size (radius) of the scoops in cm (allowing decimals e.g. 4.5)\n",
    "- prompts for the number of scoops.\n",
    "- and then prints the volume of icecream that has been served.\n",
    "\n",
    "Recall that the volume of a sphere is: $v = \\frac{4}{3} \\pi r^3$"
   ]
  },
  {
   "cell_type": "code",
   "execution_count": null,
   "metadata": {},
   "outputs": [],
   "source": []
  },
  {
   "cell_type": "markdown",
   "metadata": {},
   "source": [
    "---\n",
    "# [15] Q2: The Right Justification\n",
    "\n",
    "Most word processing programs will allow you to right justify text.  For example the text below has been right justified:\n",
    "```\n",
    "                Text that is\n",
    "             right justified\n",
    "                all lines up\n",
    "                on the right \n",
    "                       side.\n",
    "```\n",
    "\n",
    "Write a *function* that prints a given string right justified on a line with a specified number of spaces. \n",
    "\n",
    "Then use your function to print out three separate lines of text (you make them up) with each line right justified.  For full credit you may only use approaches that have appeared in this course."
   ]
  },
  {
   "cell_type": "code",
   "execution_count": null,
   "metadata": {},
   "outputs": [],
   "source": []
  },
  {
   "cell_type": "markdown",
   "metadata": {},
   "source": [
    "---\n",
    "# [15] Q3: What's the Difference\n",
    "\n",
    "You probably know that if you roll two standard 6-sided die the sum of the two die values will have an average of 7. But what is the average difference between the two die values? Write a program that performs a simulation to answer this question.  Your program should: \n",
    "- Prompt the user for the number of rolls\n",
    "- Simulate the rolls and compute the average difference between the two die.\n",
    "- Print the resulting average."
   ]
  },
  {
   "cell_type": "code",
   "execution_count": null,
   "metadata": {},
   "outputs": [],
   "source": []
  },
  {
   "cell_type": "markdown",
   "metadata": {},
   "source": [
    "---\n",
    "# [20] Q4: City Skyline\n",
    "\n",
    "Write a program that uses the `graphics` module to draw `Rectangles` that look like a city skyline similar to the one shown below.  \n",
    "\n",
    "![A block city skyline](city.jpeg)\n",
    "\n",
    "Each building is random and has:\n",
    "- a width between 15 and 30 pixels\n",
    "- a height between 50 and 250 pixels\n",
    "\n",
    "Your program should draw 15 buildings.  \n",
    "\n",
    "If you are uncertain how to complete this problem, try solving one of these slightly simplified problems first:\n",
    "- A skyline where all buildings have the same width and the same height.\n",
    "- A skyline where all buildings have the same width but each has a different height.\n",
    "\n",
    "Solving these problems may get help you find the full solution.  But if not, partial credit will be given for either of these two solutions."
   ]
  },
  {
   "cell_type": "code",
   "execution_count": null,
   "metadata": {},
   "outputs": [],
   "source": []
  },
  {
   "cell_type": "markdown",
   "metadata": {},
   "source": [
    "---\n",
    "# [25] Q5: Pointy Plus\n",
    "\n",
    "Write a program that uses the Python turtle module to draw the figure shown below.\n",
    "\n",
    "![A pointy cross](cross.jpeg)\n",
    "\n",
    "The figure should be able to be drawn at different locations, using different Turtle objects and in different sizes. For maximum credit your program design should include clean interfaces (names, parameters, doc strings) and reflect encapsulation, generalization, refactoring and readability."
   ]
  },
  {
   "cell_type": "code",
   "execution_count": null,
   "metadata": {},
   "outputs": [],
   "source": []
  }
 ],
 "metadata": {
  "kernelspec": {
   "display_name": "Python 3",
   "language": "python",
   "name": "python3"
  },
  "language_info": {
   "codemirror_mode": {
    "name": "ipython",
    "version": 3
   },
   "file_extension": ".py",
   "mimetype": "text/x-python",
   "name": "python",
   "nbconvert_exporter": "python",
   "pygments_lexer": "ipython3",
   "version": "3.7.3"
  }
 },
 "nbformat": 4,
 "nbformat_minor": 2
}
