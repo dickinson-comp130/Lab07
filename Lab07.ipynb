{
 "cells": [
  {
   "cell_type": "markdown",
   "metadata": {},
   "source": [
    "# Lab 07 - Lab Exam #1 \n",
    "**COMP130 - Introduction to Computing**  \n",
    "**Dickinson College**  "
   ]
  },
  {
   "cell_type": "markdown",
   "metadata": {},
   "source": [
    "### Name:"
   ]
  },
  {
   "cell_type": "markdown",
   "metadata": {},
   "source": [
    "Solutions"
   ]
  },
  {
   "cell_type": "markdown",
   "metadata": {},
   "source": [
    "---\n",
    "# [10] Q1:  Icecream Volume\n",
    "\n",
    "An icecream shop has decided to charge by volume.  The employees have been highly trained to dip out perfectly spherical scoops of icecream.  Now they need a program to help them.  Write a program that:\n",
    "- prompts for the size (radius) of the scoops in cm (allowing decimals e.g. 4.5)\n",
    "- prompts for the number of scoops.\n",
    "- and then prints the volume of icecream that has been served.\n",
    "\n",
    "Recall that the volume of a sphere is: $v = \\frac{4}{3} \\pi r^3$"
   ]
  },
  {
   "cell_type": "code",
   "execution_count": 2,
   "metadata": {},
   "outputs": [
    {
     "name": "stdout",
     "output_type": "stream",
     "text": [
      "What is the scoop radius? 4\n",
      "How many scoops? 3\n",
      "The volume of icecream is 804.247719318987\n"
     ]
    }
   ],
   "source": [
    "import math\n",
    "\n",
    "scoop_radius = float(input('What is the scoop radius? '))\n",
    "num_scoops = int(input('How many scoops? '))\n",
    "\n",
    "scoop_vol = (4/3) * math.pi * scoop_radius**3\n",
    "total_vol = scoop_vol * num_scoops\n",
    "\n",
    "print('The volume of icecream is ' + str(total_vol))"
   ]
  },
  {
   "cell_type": "markdown",
   "metadata": {},
   "source": [
    "---\n",
    "# [15] Q2: The Right Justification\n",
    "\n",
    "Most word processing programs will allow you to right justify text.  For example the text below has been right justified:\n",
    "```\n",
    "                Text that is\n",
    "             right justified\n",
    "                all lines up\n",
    "                on the right \n",
    "                       side.\n",
    "```\n",
    "\n",
    "Write a *function* that prints a given string right justified on a line with a specified number of spaces. \n",
    "\n",
    "Then use your function to print out three separate lines of text (you make them up) with each line right justified.  For full credit you may only use approaches that have appeared in this course."
   ]
  },
  {
   "cell_type": "code",
   "execution_count": 6,
   "metadata": {},
   "outputs": [
    {
     "name": "stdout",
     "output_type": "stream",
     "text": [
      "                This is a test\n",
      "           this is only a test\n",
      "        of right justification\n"
     ]
    }
   ],
   "source": [
    "def right_justify(line, spaces):\n",
    "    lead_spaces = spaces - len(line)\n",
    "    print(' '*lead_spaces + line)\n",
    "    \n",
    "right_justify('This is a test', 30)\n",
    "right_justify('this is only a test', 30)\n",
    "right_justify('of right justification', 30)"
   ]
  },
  {
   "cell_type": "markdown",
   "metadata": {},
   "source": [
    "---\n",
    "# [15] Q3: What's the Difference\n",
    "\n",
    "You probably know that if you roll two standard 6-sided die the sum of the two die values will have an average of 7. But what is the average difference between the two die values? Write a program that performs a simulation to answer this question.  Your program should: \n",
    "- Prompt the user for the number of rolls\n",
    "- Simulate the rolls and compute the average difference between the two die.\n",
    "- Print the resulting average."
   ]
  },
  {
   "cell_type": "code",
   "execution_count": 10,
   "metadata": {},
   "outputs": [
    {
     "name": "stdout",
     "output_type": "stream",
     "text": [
      "How many rolls? 10\n",
      "The average difference is 1.6\n"
     ]
    }
   ],
   "source": [
    "import random\n",
    "\n",
    "num_rolls = int(input('How many rolls? '))\n",
    "\n",
    "total_diff= 0\n",
    "for roll in range(num_rolls):\n",
    "    roll1=random.randint(1,6)\n",
    "    roll2=random.randint(1,6)\n",
    "    total_diff = total_diff + abs(roll1 - roll2)\n",
    "    \n",
    "ave_diff = total_diff / num_rolls\n",
    "print(\"The average difference is \" + str(ave_diff))"
   ]
  },
  {
   "cell_type": "markdown",
   "metadata": {},
   "source": [
    "---\n",
    "# [20] Q4: City Skyline\n",
    "\n",
    "Write a program that uses the `graphics` module to draw `Rectangles` that look like a city skyline similar to the one shown below.  \n",
    "\n",
    "![A block city skyline](city.jpeg)\n",
    "\n",
    "Each building is random and has:\n",
    "- a width between 15 and 30 pixels\n",
    "- a height between 50 and 250 pixels\n",
    "\n",
    "Your program should draw 15 buildings.  \n",
    "\n",
    "If you are uncertain how to complete this problem, try solving one of these slightly simplified problems first:\n",
    "- A skyline where all buildings have the same width and the same height.\n",
    "- A skyline where all buildings have the same width but each has a different height.\n",
    "\n",
    "Solving these problems may get help you find the full solution.  But if not, partial credit will be given for either of these two solutions."
   ]
  },
  {
   "cell_type": "code",
   "execution_count": 1,
   "metadata": {},
   "outputs": [],
   "source": [
    "from graphics import *\n",
    "import random\n",
    "\n",
    "win = GraphWin(\"City Skyline\", 500, 300)\n",
    "\n",
    "left = 50\n",
    "for building in range(15):\n",
    "    width = random.randint(15,30)\n",
    "    height = random.randint(50,250)\n",
    "    cur_building = Rectangle(Point(left, 300), Point(left+width, 300-height))\n",
    "    cur_building.draw(win)\n",
    "    left=left+width\n",
    "    \n",
    "win.getKey()\n",
    "win.close()"
   ]
  },
  {
   "cell_type": "markdown",
   "metadata": {},
   "source": [
    "---\n",
    "# [25] Q5: Pointy Plus\n",
    "\n",
    "Write a program that uses the Python turtle module to draw the figure shown below.\n",
    "\n",
    "![A pointy cross](cross.jpeg)\n",
    "\n",
    "The figure should be able to be drawn at different locations, using different Turtle objects and in different sizes. For maximum credit your program design should include clean interfaces (names, parameters, doc strings) and reflect encapsulation, generalization, refactoring and readability."
   ]
  },
  {
   "cell_type": "code",
   "execution_count": 3,
   "metadata": {},
   "outputs": [],
   "source": [
    "import turtle\n",
    "\n",
    "def draw_leaf(tur, length):\n",
    "    \"\"\"Draw one leaf of the figure with the specified side lengths.\n",
    "    The turtle will be left pointing in the opposite direction from\n",
    "    which it started.\n",
    "    \"\"\"\n",
    "    tur.forward(length)\n",
    "    for side in range(3):\n",
    "        tur.right(60)\n",
    "        tur.forward(length)\n",
    " \n",
    "def draw_plus(tur, x, y, length):\n",
    "    \"\"\"Draw the pointy plus with with x,y in the upper right 'nook' of the +\n",
    "    using the specified length of the side.\n",
    "    \"\"\"\n",
    "    \n",
    "    # Goto the starting point.\n",
    "    tur.penup()\n",
    "    tur.goto(x,y)\n",
    "    tur.setheading(0)\n",
    "    tur.pendown()\n",
    "    \n",
    "    # Draw the leaves.\n",
    "    for leaves in range(4):\n",
    "        draw_leaf(tur, length)\n",
    "        tur.left(90)\n",
    "        \n",
    "plus=turtle.Turtle()\n",
    "turtle.resetscreen()\n",
    "draw_plus(plus, 100, 100, 50)\n",
    "    "
   ]
  }
 ],
 "metadata": {
  "kernelspec": {
   "display_name": "Python 3",
   "language": "python",
   "name": "python3"
  },
  "language_info": {
   "codemirror_mode": {
    "name": "ipython",
    "version": 3
   },
   "file_extension": ".py",
   "mimetype": "text/x-python",
   "name": "python",
   "nbconvert_exporter": "python",
   "pygments_lexer": "ipython3",
   "version": "3.7.3"
  }
 },
 "nbformat": 4,
 "nbformat_minor": 2
}
